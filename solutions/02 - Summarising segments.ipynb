{
 "cells": [
  {
   "cell_type": "markdown",
   "id": "3d954b44",
   "metadata": {},
   "source": [
    "# 02 - Summarising segments\n",
    "Often when we are doing analytics, we need to segment our data and summarise those segments so they can be compared and decisions can be made. For example, to help us decide which segment to target for a marketing campaign.\n",
    "\n",
    "In these exercises we are going to explore some segments of the listings data and create some stats for each segement. Let's first import `pandas` and load the listings data."
   ]
  },
  {
   "cell_type": "code",
   "execution_count": 1,
   "id": "5be3b2dd",
   "metadata": {},
   "outputs": [],
   "source": [
    "import pandas as pd\n",
    "df_listings = pd.read_csv('../data/wk3_listings_sample.csv')"
   ]
  },
  {
   "cell_type": "markdown",
   "id": "a3e60a90",
   "metadata": {},
   "source": [
    "## Neighborhood segments\n",
    "As a first example, let's assume we want to see how many listings in the dataset are based in each neighbourhood in the dataset.\n",
    "\n",
    "Using tools from before, we can do this quite simply using the `value_counts()` function. Run the code below."
   ]
  },
  {
   "cell_type": "code",
   "execution_count": 2,
   "id": "3da2b513",
   "metadata": {},
   "outputs": [
    {
     "data": {
      "text/plain": [
       "Westminster               3359\n",
       "Tower Hamlets             2603\n",
       "Hackney                   2254\n",
       "Kensington and Chelsea    2175\n",
       "Camden                    2065\n",
       "Name: neighbourhood_cleansed, dtype: int64"
      ]
     },
     "execution_count": 2,
     "metadata": {},
     "output_type": "execute_result"
    }
   ],
   "source": [
    "df_listings['neighbourhood_cleansed'].value_counts().head()"
   ]
  },
  {
   "cell_type": "markdown",
   "id": "9c9a2efc",
   "metadata": {},
   "source": [
    "**Question:** Which neighbourhood in the dataset has the most listings in the dataset?"
   ]
  },
  {
   "cell_type": "markdown",
   "id": "b8c1c3ce",
   "metadata": {},
   "source": [
    "### Exercise-01: Number of listings"
   ]
  },
  {
   "cell_type": "markdown",
   "id": "ee3ef01b",
   "metadata": {},
   "source": [
    "If we wanted to do this a bit more cleanly, and create a new `DataFrame` showing each neighborhood and the number of listings in each neighbourhood, then we would run code like shown below."
   ]
  },
  {
   "cell_type": "code",
   "execution_count": 3,
   "id": "13fcbeea",
   "metadata": {},
   "outputs": [
    {
     "data": {
      "text/html": [
       "<div>\n",
       "<style scoped>\n",
       "    .dataframe tbody tr th:only-of-type {\n",
       "        vertical-align: middle;\n",
       "    }\n",
       "\n",
       "    .dataframe tbody tr th {\n",
       "        vertical-align: top;\n",
       "    }\n",
       "\n",
       "    .dataframe thead th {\n",
       "        text-align: right;\n",
       "    }\n",
       "</style>\n",
       "<table border=\"1\" class=\"dataframe\">\n",
       "  <thead>\n",
       "    <tr style=\"text-align: right;\">\n",
       "      <th></th>\n",
       "      <th>neighbourhood_cleansed</th>\n",
       "      <th>number_of_listings</th>\n",
       "    </tr>\n",
       "  </thead>\n",
       "  <tbody>\n",
       "    <tr>\n",
       "      <th>0</th>\n",
       "      <td>Westminster</td>\n",
       "      <td>3359</td>\n",
       "    </tr>\n",
       "    <tr>\n",
       "      <th>1</th>\n",
       "      <td>Tower Hamlets</td>\n",
       "      <td>2603</td>\n",
       "    </tr>\n",
       "    <tr>\n",
       "      <th>2</th>\n",
       "      <td>Hackney</td>\n",
       "      <td>2254</td>\n",
       "    </tr>\n",
       "    <tr>\n",
       "      <th>3</th>\n",
       "      <td>Kensington and Chelsea</td>\n",
       "      <td>2175</td>\n",
       "    </tr>\n",
       "    <tr>\n",
       "      <th>4</th>\n",
       "      <td>Camden</td>\n",
       "      <td>2065</td>\n",
       "    </tr>\n",
       "  </tbody>\n",
       "</table>\n",
       "</div>"
      ],
      "text/plain": [
       "   neighbourhood_cleansed  number_of_listings\n",
       "0             Westminster                3359\n",
       "1           Tower Hamlets                2603\n",
       "2                 Hackney                2254\n",
       "3  Kensington and Chelsea                2175\n",
       "4                  Camden                2065"
      ]
     },
     "execution_count": 3,
     "metadata": {},
     "output_type": "execute_result"
    }
   ],
   "source": [
    "df_neighborhood_counts = df_listings['neighbourhood_cleansed'].value_counts().reset_index()\n",
    "df_neighborhood_counts.columns = ['neighbourhood_cleansed','number_of_listings']\n",
    "df_neighborhood_counts.head()"
   ]
  },
  {
   "cell_type": "markdown",
   "id": "e4a8f5ad",
   "metadata": {},
   "source": [
    "### Exercise-02: Least listings\n",
    "If we have a `DataFrame` containing the number of listings for each neighbourhood, then we can easily identify the neighbourhood which the least listings. Sort the rows in `df_neighborhood_counts` by the values in `number_of_listings` to identify the neighbourhood in the dataset with the least number of listings in the dataset."
   ]
  },
  {
   "cell_type": "code",
   "execution_count": 4,
   "id": "4e9e8142",
   "metadata": {},
   "outputs": [
    {
     "data": {
      "text/html": [
       "<div>\n",
       "<style scoped>\n",
       "    .dataframe tbody tr th:only-of-type {\n",
       "        vertical-align: middle;\n",
       "    }\n",
       "\n",
       "    .dataframe tbody tr th {\n",
       "        vertical-align: top;\n",
       "    }\n",
       "\n",
       "    .dataframe thead th {\n",
       "        text-align: right;\n",
       "    }\n",
       "</style>\n",
       "<table border=\"1\" class=\"dataframe\">\n",
       "  <thead>\n",
       "    <tr style=\"text-align: right;\">\n",
       "      <th></th>\n",
       "      <th>neighbourhood_cleansed</th>\n",
       "      <th>number_of_listings</th>\n",
       "    </tr>\n",
       "  </thead>\n",
       "  <tbody>\n",
       "    <tr>\n",
       "      <th>32</th>\n",
       "      <td>Havering</td>\n",
       "      <td>103</td>\n",
       "    </tr>\n",
       "    <tr>\n",
       "      <th>31</th>\n",
       "      <td>Sutton</td>\n",
       "      <td>114</td>\n",
       "    </tr>\n",
       "    <tr>\n",
       "      <th>30</th>\n",
       "      <td>Bexley</td>\n",
       "      <td>115</td>\n",
       "    </tr>\n",
       "    <tr>\n",
       "      <th>29</th>\n",
       "      <td>Barking and Dagenham</td>\n",
       "      <td>157</td>\n",
       "    </tr>\n",
       "    <tr>\n",
       "      <th>28</th>\n",
       "      <td>City of London</td>\n",
       "      <td>158</td>\n",
       "    </tr>\n",
       "  </tbody>\n",
       "</table>\n",
       "</div>"
      ],
      "text/plain": [
       "   neighbourhood_cleansed  number_of_listings\n",
       "32               Havering                 103\n",
       "31                 Sutton                 114\n",
       "30                 Bexley                 115\n",
       "29   Barking and Dagenham                 157\n",
       "28         City of London                 158"
      ]
     },
     "execution_count": 4,
     "metadata": {},
     "output_type": "execute_result"
    }
   ],
   "source": [
    "# (SOLUTION)\n",
    "df_neighborhood_counts.sort_values(by='number_of_listings').head()"
   ]
  },
  {
   "cell_type": "markdown",
   "id": "a0881b9a",
   "metadata": {},
   "source": [
    "**Question:** Which neighbourhood in the dataset has the least number of listings in the dataset?"
   ]
  },
  {
   "cell_type": "markdown",
   "id": "619f7602",
   "metadata": {},
   "source": [
    "## Neighbourhood-level aggregates\n",
    "We are now going to explore a new (more extensible) way to compute statistics for for each segment (e.g. neighbourhood) in a dataset. First, let's count the number of listings in each neighbourhood using a different approach to the one used in Exercise-01 (i.e. without using the `value_counts()` method)."
   ]
  },
  {
   "cell_type": "markdown",
   "id": "fe0f750c",
   "metadata": {},
   "source": [
    "### Exercise-03: Count listings\n",
    "To create a `DataFrame` containing the number of listings for each neighbourhood, without using the `value_counts()` function, we need to:\n",
    "1. Use the `groupby` method to group the rows of `df_listings` by `neighbourhood_cleansed`.\n",
    "2. Then use the `agg` method and `count` function to count the number of rows in each group.\n",
    "3. Then clean-up the columns names of resulting `DataFrame`.\n",
    "4. Finally, sort the rows of the resulting `DataFrame` and show its `head`."
   ]
  },
  {
   "cell_type": "code",
   "execution_count": 5,
   "id": "8ef57495",
   "metadata": {},
   "outputs": [
    {
     "data": {
      "text/html": [
       "<div>\n",
       "<style scoped>\n",
       "    .dataframe tbody tr th:only-of-type {\n",
       "        vertical-align: middle;\n",
       "    }\n",
       "\n",
       "    .dataframe tbody tr th {\n",
       "        vertical-align: top;\n",
       "    }\n",
       "\n",
       "    .dataframe thead th {\n",
       "        text-align: right;\n",
       "    }\n",
       "</style>\n",
       "<table border=\"1\" class=\"dataframe\">\n",
       "  <thead>\n",
       "    <tr style=\"text-align: right;\">\n",
       "      <th></th>\n",
       "      <th>neighbourhood_cleansed</th>\n",
       "      <th>number_of_listings</th>\n",
       "    </tr>\n",
       "  </thead>\n",
       "  <tbody>\n",
       "    <tr>\n",
       "      <th>32</th>\n",
       "      <td>Westminster</td>\n",
       "      <td>3359</td>\n",
       "    </tr>\n",
       "    <tr>\n",
       "      <th>29</th>\n",
       "      <td>Tower Hamlets</td>\n",
       "      <td>2603</td>\n",
       "    </tr>\n",
       "    <tr>\n",
       "      <th>11</th>\n",
       "      <td>Hackney</td>\n",
       "      <td>2254</td>\n",
       "    </tr>\n",
       "    <tr>\n",
       "      <th>19</th>\n",
       "      <td>Kensington and Chelsea</td>\n",
       "      <td>2175</td>\n",
       "    </tr>\n",
       "    <tr>\n",
       "      <th>5</th>\n",
       "      <td>Camden</td>\n",
       "      <td>2065</td>\n",
       "    </tr>\n",
       "  </tbody>\n",
       "</table>\n",
       "</div>"
      ],
      "text/plain": [
       "    neighbourhood_cleansed  number_of_listings\n",
       "32             Westminster                3359\n",
       "29           Tower Hamlets                2603\n",
       "11                 Hackney                2254\n",
       "19  Kensington and Chelsea                2175\n",
       "5                   Camden                2065"
      ]
     },
     "execution_count": 5,
     "metadata": {},
     "output_type": "execute_result"
    }
   ],
   "source": [
    "df_listings_grouped = df_listings.groupby('neighbourhood_cleansed')\n",
    "df_listings_aggregated = df_listings_grouped['id'].agg(['count']).reset_index()\n",
    "df_listings_aggregated = df_listings_aggregated.rename(columns={'count': 'number_of_listings'})\n",
    "df_listings_aggregated.sort_values(by='number_of_listings', ascending=False).head()"
   ]
  },
  {
   "cell_type": "markdown",
   "id": "6f7dabce",
   "metadata": {},
   "source": [
    "**Question:** Is `df_listings_aggregated` the same as `df_neighborhood_counts`? "
   ]
  },
  {
   "cell_type": "markdown",
   "id": "d0eecc7c",
   "metadata": {},
   "source": [
    "### Exercise-04: Mean price\n",
    "As stated, the method used in Exercise-03 is extendable to other, similar, analytics problems. For example, let's try to use the `groupby` and `agg` methods to estimate the mean price of listings within each neighbourhood.\n",
    "\n",
    "First, let's format the `price` column in `df_listings` again! To do this, run the code below."
   ]
  },
  {
   "cell_type": "code",
   "execution_count": 6,
   "id": "78b7b034",
   "metadata": {},
   "outputs": [
    {
     "data": {
      "text/html": [
       "<div>\n",
       "<style scoped>\n",
       "    .dataframe tbody tr th:only-of-type {\n",
       "        vertical-align: middle;\n",
       "    }\n",
       "\n",
       "    .dataframe tbody tr th {\n",
       "        vertical-align: top;\n",
       "    }\n",
       "\n",
       "    .dataframe thead th {\n",
       "        text-align: right;\n",
       "    }\n",
       "</style>\n",
       "<table border=\"1\" class=\"dataframe\">\n",
       "  <thead>\n",
       "    <tr style=\"text-align: right;\">\n",
       "      <th></th>\n",
       "      <th>price</th>\n",
       "      <th>price_$</th>\n",
       "    </tr>\n",
       "  </thead>\n",
       "  <tbody>\n",
       "    <tr>\n",
       "      <th>0</th>\n",
       "      <td>$128.00</td>\n",
       "      <td>128.0</td>\n",
       "    </tr>\n",
       "    <tr>\n",
       "      <th>1</th>\n",
       "      <td>$70.00</td>\n",
       "      <td>70.0</td>\n",
       "    </tr>\n",
       "    <tr>\n",
       "      <th>2</th>\n",
       "      <td>$39.00</td>\n",
       "      <td>39.0</td>\n",
       "    </tr>\n",
       "    <tr>\n",
       "      <th>3</th>\n",
       "      <td>$85.00</td>\n",
       "      <td>85.0</td>\n",
       "    </tr>\n",
       "    <tr>\n",
       "      <th>4</th>\n",
       "      <td>$40.00</td>\n",
       "      <td>40.0</td>\n",
       "    </tr>\n",
       "  </tbody>\n",
       "</table>\n",
       "</div>"
      ],
      "text/plain": [
       "     price  price_$\n",
       "0  $128.00    128.0\n",
       "1   $70.00     70.0\n",
       "2   $39.00     39.0\n",
       "3   $85.00     85.0\n",
       "4   $40.00     40.0"
      ]
     },
     "execution_count": 6,
     "metadata": {},
     "output_type": "execute_result"
    }
   ],
   "source": [
    "def format_price(price):\n",
    "    return(float(price.replace('$','').replace(',','')))\n",
    "\n",
    "# (SOLUTION)\n",
    "df_listings['price_$'] = df_listings['price'].apply(format_price) \n",
    "df_listings[['price','price_$']].head()"
   ]
  },
  {
   "cell_type": "markdown",
   "id": "e2f1ac29",
   "metadata": {},
   "source": [
    "**Question:** What might you do to avoid having to format the price column repeatability?"
   ]
  },
  {
   "cell_type": "markdown",
   "id": "17d05ba6",
   "metadata": {},
   "source": [
    "Great! If we have formated the `price` column correctly, we will be able to calculate the mean price for each neighbourhood. Using Pandas, we will do this in three steps:\n",
    "\n",
    "1. Use the `groupby` method to group the rows of `df_listings` by `neighbourhood_cleansed`.\n",
    "2. Then use the `agg` method and `mean` function to calculate the mean `price_$` for each group.\n",
    "3. Then clean-up the columns names of resulting `DataFrame`.\n",
    "4. Finally, sort the rows of the resulting `DataFrame` and show its `head`."
   ]
  },
  {
   "cell_type": "code",
   "execution_count": 7,
   "id": "3adae2d9",
   "metadata": {},
   "outputs": [
    {
     "data": {
      "text/html": [
       "<div>\n",
       "<style scoped>\n",
       "    .dataframe tbody tr th:only-of-type {\n",
       "        vertical-align: middle;\n",
       "    }\n",
       "\n",
       "    .dataframe tbody tr th {\n",
       "        vertical-align: top;\n",
       "    }\n",
       "\n",
       "    .dataframe thead th {\n",
       "        text-align: right;\n",
       "    }\n",
       "</style>\n",
       "<table border=\"1\" class=\"dataframe\">\n",
       "  <thead>\n",
       "    <tr style=\"text-align: right;\">\n",
       "      <th></th>\n",
       "      <th>neighbourhood_cleansed</th>\n",
       "      <th>mean_price_$</th>\n",
       "    </tr>\n",
       "  </thead>\n",
       "  <tbody>\n",
       "    <tr>\n",
       "      <th>6</th>\n",
       "      <td>City of London</td>\n",
       "      <td>201.936709</td>\n",
       "    </tr>\n",
       "    <tr>\n",
       "      <th>32</th>\n",
       "      <td>Westminster</td>\n",
       "      <td>185.473355</td>\n",
       "    </tr>\n",
       "    <tr>\n",
       "      <th>19</th>\n",
       "      <td>Kensington and Chelsea</td>\n",
       "      <td>183.262529</td>\n",
       "    </tr>\n",
       "    <tr>\n",
       "      <th>5</th>\n",
       "      <td>Camden</td>\n",
       "      <td>138.333172</td>\n",
       "    </tr>\n",
       "    <tr>\n",
       "      <th>18</th>\n",
       "      <td>Islington</td>\n",
       "      <td>132.304448</td>\n",
       "    </tr>\n",
       "  </tbody>\n",
       "</table>\n",
       "</div>"
      ],
      "text/plain": [
       "    neighbourhood_cleansed  mean_price_$\n",
       "6           City of London    201.936709\n",
       "32             Westminster    185.473355\n",
       "19  Kensington and Chelsea    183.262529\n",
       "5                   Camden    138.333172\n",
       "18               Islington    132.304448"
      ]
     },
     "execution_count": 7,
     "metadata": {},
     "output_type": "execute_result"
    }
   ],
   "source": [
    "df_listings_grouped = df_listings.groupby('neighbourhood_cleansed')\n",
    "df_listings_aggregated = df_listings_grouped['price_$'].agg(['mean']).reset_index()\n",
    "df_listings_aggregated = df_listings_aggregated.rename(columns={'mean': 'mean_price_$'})\n",
    "df_listings_aggregated.sort_values(by='mean_price_$', ascending=False).head()"
   ]
  },
  {
   "cell_type": "markdown",
   "id": "59cfeebd",
   "metadata": {},
   "source": [
    "**Question:** Which neighbourhood has the highest `mean_price_$`?"
   ]
  },
  {
   "cell_type": "markdown",
   "id": "c1ff21ac",
   "metadata": {},
   "source": [
    "### Exercise-05: Mean price per person\n",
    "Use what you have learned here and in notebook `Exercise-02` of notebook `01 - Calculating metrics` to estimate the mean `price_$/person` for each neighbourhood."
   ]
  },
  {
   "cell_type": "code",
   "execution_count": 8,
   "id": "7446107e",
   "metadata": {},
   "outputs": [],
   "source": [
    "# (SOLUTION)"
   ]
  },
  {
   "cell_type": "markdown",
   "id": "c035d64a",
   "metadata": {},
   "source": [
    "### Exercise-06: Sum of forecast income\n",
    "Use what you have learned here and in notebook `Exercise-03` of notebook `01 - Calculating metrics` to forecast the total income over the next 30 days (e.g. `estimated_income_30`) for each neighbourhood.\n",
    "\n",
    "*Hint*: You will need to use `sum` as the function used to aggregate, rather than `mean`. "
   ]
  },
  {
   "cell_type": "code",
   "execution_count": 9,
   "id": "bb3cb65c",
   "metadata": {},
   "outputs": [],
   "source": [
    "# (SOLUTION)"
   ]
  },
  {
   "cell_type": "markdown",
   "id": "c0be5c8d",
   "metadata": {},
   "source": [
    "## Bonus exercises\n",
    "Some bonus exercises!"
   ]
  },
  {
   "cell_type": "markdown",
   "id": "24e367d9",
   "metadata": {},
   "source": [
    "### Exercise-07: Even more extensible code\n",
    "We can write the code in `Exercise-04` in an *even more* extensible way."
   ]
  },
  {
   "cell_type": "code",
   "execution_count": 10,
   "id": "54217cf5",
   "metadata": {},
   "outputs": [
    {
     "data": {
      "text/html": [
       "<div>\n",
       "<style scoped>\n",
       "    .dataframe tbody tr th:only-of-type {\n",
       "        vertical-align: middle;\n",
       "    }\n",
       "\n",
       "    .dataframe tbody tr th {\n",
       "        vertical-align: top;\n",
       "    }\n",
       "\n",
       "    .dataframe thead th {\n",
       "        text-align: right;\n",
       "    }\n",
       "</style>\n",
       "<table border=\"1\" class=\"dataframe\">\n",
       "  <thead>\n",
       "    <tr style=\"text-align: right;\">\n",
       "      <th></th>\n",
       "      <th>neighbourhood_cleansed</th>\n",
       "      <th>mean_price_$</th>\n",
       "    </tr>\n",
       "  </thead>\n",
       "  <tbody>\n",
       "    <tr>\n",
       "      <th>0</th>\n",
       "      <td>Barking and Dagenham</td>\n",
       "      <td>57.662420</td>\n",
       "    </tr>\n",
       "    <tr>\n",
       "      <th>1</th>\n",
       "      <td>Barnet</td>\n",
       "      <td>99.901235</td>\n",
       "    </tr>\n",
       "    <tr>\n",
       "      <th>2</th>\n",
       "      <td>Bexley</td>\n",
       "      <td>56.165217</td>\n",
       "    </tr>\n",
       "    <tr>\n",
       "      <th>3</th>\n",
       "      <td>Brent</td>\n",
       "      <td>101.111588</td>\n",
       "    </tr>\n",
       "    <tr>\n",
       "      <th>4</th>\n",
       "      <td>Bromley</td>\n",
       "      <td>83.211864</td>\n",
       "    </tr>\n",
       "  </tbody>\n",
       "</table>\n",
       "</div>"
      ],
      "text/plain": [
       "  neighbourhood_cleansed  mean_price_$\n",
       "0   Barking and Dagenham     57.662420\n",
       "1                 Barnet     99.901235\n",
       "2                 Bexley     56.165217\n",
       "3                  Brent    101.111588\n",
       "4                Bromley     83.211864"
      ]
     },
     "execution_count": 10,
     "metadata": {},
     "output_type": "execute_result"
    }
   ],
   "source": [
    "group_col = 'neighbourhood_cleansed'\n",
    "agg_col = 'price_$'\n",
    "agg_func = 'mean'\n",
    "\n",
    "df_listings_grouped = df_listings.groupby(group_col)\n",
    "df_aggregated = df_listings_grouped[agg_col].agg([agg_func]).reset_index()\n",
    "df_aggregated = df_aggregated.rename(columns={agg_func: f'{agg_func}_{agg_col}'})\n",
    "df_aggregated.head()"
   ]
  },
  {
   "cell_type": "markdown",
   "id": "30747d6c",
   "metadata": {},
   "source": [
    "Here we have remove specifications out from the main code. Play around with other types of groupings and aggregations."
   ]
  },
  {
   "cell_type": "markdown",
   "id": "113ea031",
   "metadata": {},
   "source": [
    "### Exercise-08: Data cleaning\n",
    "Did you notice that we've been using the values in `neighbourhood_cleansed` to compute the neighbourhood of each listing? What do you think `cleansed` means? Are you able to find the answer in the [data dictionary](https://docs.google.com/spreadsheets/d/1iWCNJcSutYqpULSQHlNyGInUvHg2BoUGoNRIGa6Szc4/edit#gid=982310896)? Why do you think we didn't use that values in in `neighbourhood`?"
   ]
  }
 ],
 "metadata": {
  "kernelspec": {
   "display_name": "Python 3 (ipykernel)",
   "language": "python",
   "name": "python3"
  },
  "language_info": {
   "codemirror_mode": {
    "name": "ipython",
    "version": 3
   },
   "file_extension": ".py",
   "mimetype": "text/x-python",
   "name": "python",
   "nbconvert_exporter": "python",
   "pygments_lexer": "ipython3",
   "version": "3.7.9"
  }
 },
 "nbformat": 4,
 "nbformat_minor": 5
}
