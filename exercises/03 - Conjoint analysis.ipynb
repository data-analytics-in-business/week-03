{
 "cells": [
  {
   "cell_type": "markdown",
   "id": "6a380eff",
   "metadata": {},
   "source": [
    "# 03 - Conjoint analysis\n",
    "The exercises in this notebook are inspired by [Traditional Conjoint Analysis with Excel](https://sawtoothsoftware.com/resources/technical-papers/analysis-of-traditional-conjoint-using-excel-an-introductory-example). We use the same data and run the same analysis, but we perform the analysis in Python - which is more extensible.\n",
    "\n",
    "## Example Problem\n",
    "Consider a product range where each product has three attributes $(\\text{Brand}, \\text{Colour}, \\text{Price})$ which can each take on the following values:\n",
    "\n",
    "| Brand    | Colour   | Price    |\n",
    "| -------- | -------- | -------- |\n",
    "| A        | Red      | £50      |\n",
    "| B        | Blue     | £100     |\n",
    "| C        |          | £150     |\n",
    "\n",
    "For example, a particular product instance might have attribute-values $(\\text{B}, \\text{Red}, \\text{£150})$. In total, there are $18$ possible products that can be created from these attribute values. \n",
    "\n",
    "$$\\text{3 brands} × \\text{2 colors} × \\text{3 prices} = \\text{18 products}$$\n",
    "\n",
    "Assume that each of these products are tested is a trial where partipants rate each of the products on a scale from $0$ to $10$, where $10$ represents the highest degree of preference."
   ]
  },
  {
   "cell_type": "markdown",
   "id": "50ba3731",
   "metadata": {},
   "source": [
    "## Example data\n",
    "Let's assume we have data from one participant, who rated every product. Run the code below to load their data into a `DataFrame`."
   ]
  },
  {
   "cell_type": "code",
   "execution_count": null,
   "id": "c5d77a4c",
   "metadata": {},
   "outputs": [],
   "source": [
    "import pandas as pd\n",
    "columns = ['Product', 'Brand', 'Colour', 'Price', 'Preference']\n",
    "data = [\n",
    "    [ 1, 'A', 'Red',  '£50',  5],\n",
    "    [ 2, 'A', 'Red',  '£100', 5],\n",
    "    [ 3, 'A', 'Red',  '£150', 0],\n",
    "    [ 4, 'A', 'Blue', '£50',  8],\n",
    "    [ 5, 'A', 'Blue', '£100', 5],\n",
    "    [ 6, 'A', 'Blue', '£150', 2],\n",
    "    [ 7, 'B', 'Red',  '£50',  7],\n",
    "    [ 8, 'B', 'Red',  '£100', 5],\n",
    "    [ 9, 'B', 'Red',  '£150', 3],\n",
    "    [10, 'B', 'Blue', '£50',  9],\n",
    "    [11, 'B', 'Blue', '£100', 6],\n",
    "    [12, 'B', 'Blue', '£150', 5],\n",
    "    [13, 'C', 'Red',  '£50', 10],\n",
    "    [14, 'C', 'Red',  '£100', 7],\n",
    "    [15, 'C', 'Red',  '£150', 5],\n",
    "    [16, 'C', 'Blue', '£50',  9],\n",
    "    [17, 'C', 'Blue', '£100', 7],\n",
    "    [18, 'C', 'Blue', '£150', 6]\n",
    "]\n",
    "\n",
    "df_responses = pd.DataFrame(data=data,columns=columns)\n",
    "df_responses.head(20)\n"
   ]
  },
  {
   "cell_type": "markdown",
   "id": "d64a1bea",
   "metadata": {},
   "source": [
    "## Coding attribute levels\n",
    "To perform a conjoint analysis on the above data, we first need to format (/code) the attribute values/levels. We can do this using the `get_dummies` method."
   ]
  },
  {
   "cell_type": "code",
   "execution_count": null,
   "id": "ac5eb446",
   "metadata": {},
   "outputs": [],
   "source": [
    "attributes = ['Brand', 'Colour', 'Price']\n",
    "df_dummies = pd.get_dummies(df_responses, columns=attributes)\n",
    "df_dummies.head(20)"
   ]
  },
  {
   "cell_type": "markdown",
   "id": "86a3b646",
   "metadata": {},
   "source": [
    "## Resolving linear dependencies\n",
    "The problem with the above coding, is the linear dependency between input features. To fix this problem, we can use the `drop_first=True` argument to produce a better set of input features."
   ]
  },
  {
   "cell_type": "code",
   "execution_count": null,
   "id": "b85da69a",
   "metadata": {},
   "outputs": [],
   "source": [
    "df_coded = pd.get_dummies(df_responses, columns=attributes, drop_first=True)\n",
    "df_coded.head(20)"
   ]
  },
  {
   "cell_type": "markdown",
   "id": "1ab4618e",
   "metadata": {},
   "source": [
    "## Multiple regression analysis\n",
    "We can now use the `sklearn` package to perform regression analysis."
   ]
  },
  {
   "cell_type": "code",
   "execution_count": null,
   "id": "63623223",
   "metadata": {},
   "outputs": [],
   "source": [
    "from sklearn import linear_model\n",
    "regr = linear_model.LinearRegression()\n",
    "\n",
    "dependent_var = 'Preference'\n",
    "independent_vars = ['Brand_B', 'Brand_C', 'Colour_Red', 'Price_£150', 'Price_£50']\n",
    "\n",
    "y = df_coded[dependent_var]\n",
    "X = df_coded[independent_vars]\n",
    "regr.fit(X, y)\n",
    "\n",
    "print(regr.coef_)"
   ]
  },
  {
   "cell_type": "markdown",
   "id": "17b18660",
   "metadata": {},
   "source": [
    "These regression coefficients, show the effect of each attribute level relative to the one missing. To see this, we can print the final results in a more human-readible format."
   ]
  },
  {
   "cell_type": "code",
   "execution_count": null,
   "id": "ca25afcf",
   "metadata": {},
   "outputs": [],
   "source": [
    "for attribute in attributes:\n",
    "    attribute_levels = [level for level in df_dummies.columns if level.startswith(attribute)]\n",
    "    print(attribute)\n",
    "    for level in attribute_levels:\n",
    "        value = regr.coef_[independent_vars.index(level)] if (level in independent_vars) else 0.00\n",
    "        level = level.split('_')[-1]\n",
    "        print(f'  {level}={value:.2f}')\n",
    "\n",
    "    "
   ]
  },
  {
   "cell_type": "markdown",
   "id": "e09e13be",
   "metadata": {},
   "source": [
    "Look at results compared to the original [article](https://sawtoothsoftware.com/resources/technical-papers/analysis-of-traditional-conjoint-using-excel-an-introductory-example). Why are they slightly different?\n",
    "\n",
    "Also, read the original [article](https://sawtoothsoftware.com/resources/technical-papers/analysis-of-traditional-conjoint-using-excel-an-introductory-example) for more details."
   ]
  }
 ],
 "metadata": {
  "kernelspec": {
   "display_name": "Python 3 (ipykernel)",
   "language": "python",
   "name": "python3"
  },
  "language_info": {
   "codemirror_mode": {
    "name": "ipython",
    "version": 3
   },
   "file_extension": ".py",
   "mimetype": "text/x-python",
   "name": "python",
   "nbconvert_exporter": "python",
   "pygments_lexer": "ipython3",
   "version": "3.7.9"
  }
 },
 "nbformat": 4,
 "nbformat_minor": 5
}
